{
 "cells": [
  {
   "cell_type": "code",
   "execution_count": 1,
   "metadata": {},
   "outputs": [],
   "source": [
    "from splinter import Browser\n",
    "import pandas as pd\n",
    "import numpy as np\n",
    "import time\n",
    "from collections import defaultdict\n",
    "import boto3\n",
    "from boto3.dynamodb.conditions import Key, Attr\n",
    "import json\n",
    "from decimal import Decimal\n",
    "import requests\n",
    "import re\n",
    "import uuid"
   ]
  },
  {
   "cell_type": "code",
   "execution_count": 2,
   "metadata": {},
   "outputs": [],
   "source": [
    "start = \"10/20/19\"\n",
    "end = \"10/27/19\"\n",
    "start_unix = int(time.mktime(pd.datetime.strptime(start, \"%m/%d/%y\" ).timetuple())*1000)\n",
    "end_unix = int(time.mktime(pd.datetime.strptime(end, \"%m/%d/%y\" ).timetuple())*1000)\n",
    "period_string = pd.datetime.strptime(start, \"%m/%d/%y\" ).strftime(\"%Y%m%d\") + pd.datetime.strptime(end, \"%m/%d/%y\" ).strftime(\"%Y%m%d\")"
   ]
  },
  {
   "cell_type": "code",
   "execution_count": 5,
   "metadata": {},
   "outputs": [],
   "source": [
    "session = requests.Session()\n",
    "dynamodb = boto3.resource('dynamodb', region_name='us-east-1')\n",
    "table = dynamodb.Table('shift')\n"
   ]
  },
  {
   "cell_type": "code",
   "execution_count": 6,
   "metadata": {},
   "outputs": [
    {
     "data": {
      "text/plain": [
       "boto3.resources.collection.dynamodb.tablesCollectionManager"
      ]
     },
     "execution_count": 6,
     "metadata": {},
     "output_type": "execute_result"
    }
   ],
   "source": [
    "type(dynamodb.tables)"
   ]
  },
  {
   "cell_type": "code",
   "execution_count": 7,
   "metadata": {},
   "outputs": [
    {
     "data": {
      "text/plain": [
       "<boto3.dynamodb.table.BatchWriter at 0x11ba09240>"
      ]
     },
     "execution_count": 7,
     "metadata": {},
     "output_type": "execute_result"
    }
   ],
   "source": [
    "table.batch_writer()"
   ]
  },
  {
   "cell_type": "code",
   "execution_count": 8,
   "metadata": {},
   "outputs": [],
   "source": [
    "fe = Key(\"scheduled_start\").gt(start_unix) & Key(\"scheduled_start\").lt(end_unix) & Key(\"shift_status\").gt(0)"
   ]
  },
  {
   "cell_type": "code",
   "execution_count": 9,
   "metadata": {},
   "outputs": [],
   "source": [
    "resp = table.scan( FilterExpression = fe)['Items']"
   ]
  },
  {
   "cell_type": "code",
   "execution_count": 10,
   "metadata": {},
   "outputs": [],
   "source": [
    "shifts = pd.DataFrame(resp)"
   ]
  },
  {
   "cell_type": "code",
   "execution_count": 11,
   "metadata": {},
   "outputs": [],
   "source": [
    "def calc_hours(x, break_thresh = 6):\n",
    "    logged_hours = Decimal((x['end']-x['start'])/(1000*60*60))\n",
    "    if (logged_hours > break_thresh):\n",
    "        return logged_hours - Decimal(0.5)\n",
    "    else:\n",
    "        return logged_hours"
   ]
  },
  {
   "cell_type": "code",
   "execution_count": 12,
   "metadata": {},
   "outputs": [],
   "source": [
    "shifts['adj_hours'] = shifts.apply(lambda x: calc_hours(x),axis = 1)"
   ]
  },
  {
   "cell_type": "code",
   "execution_count": 13,
   "metadata": {},
   "outputs": [
    {
     "name": "stdout",
     "output_type": "stream",
     "text": [
      "<class 'pandas.core.frame.DataFrame'>\n",
      "RangeIndex: 43 entries, 0 to 42\n",
      "Data columns (total 18 columns):\n",
      "app_count          43 non-null object\n",
      "carrier            43 non-null object\n",
      "carrier_id         43 non-null object\n",
      "created_dt         43 non-null object\n",
      "description        1 non-null object\n",
      "driver             43 non-null object\n",
      "end                43 non-null object\n",
      "id                 43 non-null object\n",
      "modified_dt        43 non-null object\n",
      "scheduled_start    43 non-null object\n",
      "shift_status       43 non-null object\n",
      "start              43 non-null object\n",
      "start_address      43 non-null object\n",
      "start_city         43 non-null object\n",
      "start_state        43 non-null object\n",
      "start_zip          43 non-null object\n",
      "user_id            43 non-null object\n",
      "adj_hours          43 non-null object\n",
      "dtypes: object(18)\n",
      "memory usage: 6.1+ KB\n"
     ]
    }
   ],
   "source": [
    "shifts.info()"
   ]
  },
  {
   "cell_type": "code",
   "execution_count": 14,
   "metadata": {},
   "outputs": [],
   "source": [
    "%load_ext autoreload\n",
    "%autoreload 2"
   ]
  },
  {
   "cell_type": "code",
   "execution_count": null,
   "metadata": {},
   "outputs": [],
   "source": []
  },
  {
   "cell_type": "code",
   "execution_count": 15,
   "metadata": {},
   "outputs": [],
   "source": [
    "payroll_rates = defaultdict(int)\n",
    "client_rates = defaultdict(int)\n",
    "for name in shifts['driver'].unique():\n",
    "    if name == \"William Baldeo\":\n",
    "        payroll_rates[name]=30\n",
    "    elif name == \"Maurice  Gaskins \":\n",
    "        payroll_rates[name]=20\n",
    "    elif name == \"Robert Velicky\":\n",
    "        payroll_rates[name]=27\n",
    "    elif name == \"Willie Thomas\":\n",
    "        payroll_rates[name]=26\n",
    "    else:\n",
    "        payroll_rates[name]=25\n",
    "client_rates['Bettaway Transportation Logistics'] = 34\n",
    "client_rates['Universal Supply Company'] = 44\n",
    "client_rates['Lotus Scoop Ice Cream'] = 30"
   ]
  },
  {
   "cell_type": "code",
   "execution_count": 16,
   "metadata": {},
   "outputs": [],
   "source": [
    "shifts['Payroll Rate'] = shifts.apply(lambda x: payroll_rates[x['driver']],axis = 1)\n",
    "shifts['Client Rate'] = shifts.apply(lambda x: client_rates[x['carrier']],axis = 1)\n",
    "shifts['Payroll Amount'] = shifts['adj_hours'] * shifts['Payroll Rate']\n",
    "shifts['Billed Amount'] = shifts['adj_hours'] * shifts['Client Rate']\n",
    "shifts['break_hours']=shifts['adj_hours'].apply(lambda x: Decimal(0) if x < 5.5 else Decimal(0.5))\n",
    "shifts['start_time']= shifts['start'].apply(lambda x: pd.datetime.fromtimestamp(x/1000).strftime(\"%H:%M\"))\n",
    "shifts['end_time']= shifts['end'].apply(lambda x: pd.datetime.fromtimestamp(x/1000).strftime(\"%H:%M\"))\n",
    "shifts['date']= shifts['scheduled_start'].apply(\n",
    "    lambda x: pd.datetime.fromtimestamp(x/1000).strftime(\"%m/%d/%y\"))"
   ]
  },
  {
   "cell_type": "code",
   "execution_count": 17,
   "metadata": {},
   "outputs": [],
   "source": [
    "shifts.sort_values(by=['driver','date'],inplace=True)"
   ]
  },
  {
   "cell_type": "code",
   "execution_count": 18,
   "metadata": {},
   "outputs": [
    {
     "name": "stdout",
     "output_type": "stream",
     "text": [
      "Gross Revenue: $16830.00\n",
      "Driver Payroll: $12419.00\n",
      "Gross Profit: $4411.00\n"
     ]
    }
   ],
   "source": [
    "print(\"Gross Revenue: ${:.02f}\".format(shifts['Billed Amount'].sum()))\n",
    "print(\"Driver Payroll: ${:.02f}\".format(shifts['Payroll Amount'].sum()))\n",
    "print(\"Gross Profit: ${:.02f}\".format(shifts['Billed Amount'].sum()-shifts['Payroll Amount'].sum()))"
   ]
  },
  {
   "cell_type": "code",
   "execution_count": 19,
   "metadata": {},
   "outputs": [],
   "source": [
    "shifts['description']=shifts['description'].apply(lambda x: \"Class A\" if pd.isna(x) else x)"
   ]
  },
  {
   "cell_type": "code",
   "execution_count": 20,
   "metadata": {},
   "outputs": [],
   "source": [
    "shifts['Payroll Amount'] = shifts.apply(lambda x: x['Payroll Amount'] + Decimal(12.5) if x['driver']=='Roberto Rodriguez' else x['Payroll Amount'] ,axis = 1)"
   ]
  },
  {
   "cell_type": "code",
   "execution_count": 21,
   "metadata": {},
   "outputs": [
    {
     "name": "stdout",
     "output_type": "stream",
     "text": [
      "Hours Billed: 495.0\n",
      "Gross Revenue: $16830.00\n",
      "Driver Payroll: $12481.50\n",
      "Gross Profit: $4348.50\n"
     ]
    }
   ],
   "source": [
    "print(\"Hours Billed: {:.01f}\".format(shifts['adj_hours'].sum()))\n",
    "print(\"Gross Revenue: ${:.02f}\".format(shifts['Billed Amount'].sum()))\n",
    "print(\"Driver Payroll: ${:.02f}\".format(shifts['Payroll Amount'].sum()))\n",
    "print(\"Gross Profit: ${:.02f}\".format(shifts['Billed Amount'].sum()-shifts['Payroll Amount'].sum()))"
   ]
  },
  {
   "cell_type": "code",
   "execution_count": 22,
   "metadata": {},
   "outputs": [],
   "source": [
    "export_cols = ['date','carrier','description','driver','shift_status','start_address','start_city','start_state',\n",
    "               'adj_hours','Payroll Rate','Client Rate','Payroll Amount','Billed Amount','break_hours',\n",
    "              'start_time','end_time']\n",
    "shifts[export_cols].to_csv(\"weekly_billing_{}.csv\".format(period_string[8:]))"
   ]
  },
  {
   "cell_type": "markdown",
   "metadata": {},
   "source": [
    "pd.datetime.strptime(shifts['Log date'].iloc[0],\"%m/%d/%Y\") > pd.datetime.strptime(\"08/03/2019\",\"%m/%d/%Y\")"
   ]
  },
  {
   "cell_type": "code",
   "execution_count": 23,
   "metadata": {},
   "outputs": [],
   "source": [
    "session = requests.Session()\n",
    "dynamodb = boto3.resource('dynamodb', region_name='us-east-2')\n",
    "table = dynamodb.Table('invoice')\n"
   ]
  },
  {
   "cell_type": "code",
   "execution_count": 24,
   "metadata": {},
   "outputs": [],
   "source": [
    "def create_invoice(table, carrier,carrier_id,des,start_date,end_date, period_string):\n",
    "    invoice_id = str(uuid.uuid4())\n",
    "    qb_id = int(time.time()*1000)    \n",
    "    resp = table.update_item(Key = {'id':invoice_id},\n",
    "                ExpressionAttributeNames={\n",
    "                    \"#qb_id\" : \"qb_id\",\n",
    "                    \"#created_dt\" : \"created_dt\",\n",
    "                    \"#des\" : \"description\",\n",
    "                    \"#invoice_date\":\"invoice_date\",\n",
    "                    \"#carrier\": \"carrier\",\n",
    "                    \"#carrier_id\": \"carrier_id\",\n",
    "                    \"#period\":\"period\",\n",
    "                },\n",
    "                ExpressionAttributeValues = {\n",
    "                    \":qb_id\":qb_id,\n",
    "                    \":carrier\" : carrier,\n",
    "                    \":carrier_id\" : carrier_id,\n",
    "                    \":des\" : ' '.join([des,start_date,end_date]),\n",
    "                    \":period\": period_string,\n",
    "                },\n",
    "                UpdateExpression = \"\"\"SET\n",
    "                    #qb_id = :qb_id,\n",
    "                    #created_dt = :qb_id,\n",
    "                    #invoice_date = :qb_id,\n",
    "                    #des = :des,\n",
    "                    #carrier = :carrier,\n",
    "                    #carrier_id = :carrier_id,\n",
    "                    #period = :period\n",
    "                \"\"\"\n",
    "                )\n",
    "    return [invoice_id,qb_id]"
   ]
  },
  {
   "cell_type": "code",
   "execution_count": 25,
   "metadata": {},
   "outputs": [],
   "source": [
    "def invoice_item(x,table, invoice_id, qb_id,period_string):\n",
    "    item_id = str(uuid.uuid4())\n",
    "    created_dt = int(time.time()*1000)\n",
    "    adj_time = x[\"adj_hours\"].quantize(Decimal(\"0.01\"))\n",
    "    carrier_rate = Decimal.from_float(x[\"Client Rate\"]).quantize(Decimal(\"0.01\"))\n",
    "    resp = table.update_item(Key = {'id':item_id},\n",
    "                ExpressionAttributeNames={\n",
    "                    \"#adj_time\" : \"adj_time\",\n",
    "                    \"#break_hours\" : \"break_hours\",\n",
    "                    \"#carrier_rate\" : \"carrier_rate\",\n",
    "                    \"#carrier_total\" : \"carrier_total\",\n",
    "                    \"#created_dt\" : \"created_dt\",\n",
    "                    \"#date\" : \"date\",\n",
    "                    \"#des\" : \"description\",\n",
    "                    \"#driver\" : \"driver\",\n",
    "                    \"#driver_rate\" : \"driver_rate\",\n",
    "                    \"#driver_total\" : \"driver_total\",\n",
    "                    \"#start_time\" : \"start_time\",\n",
    "                    \"#end_time\" : \"end_time\",\n",
    "                    \"#invoice_id\" : \"invoice_id\",\n",
    "                    \"#qb_id\" : \"qb_id\",\n",
    "                    \"#period\":\"period\",\n",
    "                },\n",
    "                ExpressionAttributeValues= {\n",
    "                    \":adj_time\" : adj_time,\n",
    "                    \":break_hours\" : x['break_hours'],\n",
    "                    \":carrier_rate\" : carrier_rate,\n",
    "                    \":carrier_total\" : adj_time * carrier_rate,\n",
    "                    \":created_dt\" : created_dt,\n",
    "                    \":date\" : x['date'],\n",
    "                    \":description\" : x['description'],\n",
    "                    \":driver\" : x['driver'],\n",
    "                    \":driver_rate\" : Decimal.from_float(x[\"Payroll Rate\"]).quantize(Decimal(\"0.01\")),\n",
    "                    \":driver_total\" : x[\"Payroll Amount\"].quantize(Decimal(\"0.01\")),\n",
    "                    \":start_time\" : x[\"start_time\"],\n",
    "                    \":end_time\" : x[\"end_time\"],\n",
    "                    \":invoice_id\" : invoice_id,\n",
    "                    \":qb_id\" : qb_id,\n",
    "                    \":period\": period_string,\n",
    "                },\n",
    "                UpdateExpression = \"\"\"SET\n",
    "                    #adj_time = :adj_time,\n",
    "                    #break_hours = :break_hours,\n",
    "                    #carrier_rate = :carrier_rate,\n",
    "                    #carrier_total = :carrier_total,\n",
    "                    #created_dt = :created_dt,\n",
    "                    #date = :date,\n",
    "                    #des = :description,\n",
    "                    #driver = :driver,\n",
    "                    #driver_rate = :driver_rate,\n",
    "                    #driver_total = :driver_total,\n",
    "                    #start_time = :start_time,\n",
    "                    #end_time = :end_time,\n",
    "                    #invoice_id = :invoice_id,\n",
    "                    #qb_id = :qb_id,\n",
    "                    #period = :period\n",
    "                \"\"\"\n",
    "                    )\n",
    "    return True"
   ]
  },
  {
   "cell_type": "code",
   "execution_count": 26,
   "metadata": {},
   "outputs": [],
   "source": [
    "dynamodb = boto3.resource('dynamodb', region_name='us-east-1')\n",
    "table = dynamodb.Table('invoice')\n",
    "carrier = \"Bettaway Transportation Logistics\"\n",
    "carrier_id = \"27ea2970-bac2-11e9-9172-918bcb645def\"\n",
    "start_date = \"09/22/2019\"\n",
    "end_date = \"09/29/2019\"\n",
    "des = \"Class A Work\"\n",
    "invoice_id,qb_id = create_invoice(table, carrier,carrier_id,des,start_date,end_date,period_string)"
   ]
  },
  {
   "cell_type": "code",
   "execution_count": 27,
   "metadata": {},
   "outputs": [
    {
     "name": "stdout",
     "output_type": "stream",
     "text": [
      "f87d0dc5-6b21-4f0c-a12e-683213565ceb\n",
      "1572458240263\n"
     ]
    },
    {
     "data": {
      "text/plain": [
       "14    True\n",
       "18    True\n",
       "35    True\n",
       "7     True\n",
       "20    True\n",
       "3     True\n",
       "34    True\n",
       "0     True\n",
       "12    True\n",
       "19    True\n",
       "4     True\n",
       "28    True\n",
       "6     True\n",
       "1     True\n",
       "36    True\n",
       "13    True\n",
       "25    True\n",
       "31    True\n",
       "9     True\n",
       "5     True\n",
       "23    True\n",
       "42    True\n",
       "39    True\n",
       "11    True\n",
       "10    True\n",
       "2     True\n",
       "38    True\n",
       "15    True\n",
       "33    True\n",
       "32    True\n",
       "40    True\n",
       "24    True\n",
       "30    True\n",
       "22    True\n",
       "41    True\n",
       "17    True\n",
       "27    True\n",
       "26    True\n",
       "16    True\n",
       "8     True\n",
       "21    True\n",
       "37    True\n",
       "29    True\n",
       "dtype: bool"
      ]
     },
     "execution_count": 27,
     "metadata": {},
     "output_type": "execute_result"
    }
   ],
   "source": [
    "print(invoice_id)\n",
    "print(qb_id)\n",
    "table = dynamodb.Table('invoice_item')\n",
    "filter_shifts = shifts[shifts['carrier']==carrier]\n",
    "filter_shifts.apply(lambda x: invoice_item(x,table,invoice_id,qb_id, period_string),axis = 1)"
   ]
  },
  {
   "cell_type": "code",
   "execution_count": 81,
   "metadata": {},
   "outputs": [],
   "source": [
    "dynamodb = boto3.resource('dynamodb', region_name='us-east-1')\n",
    "table = dynamodb.Table('invoice')\n",
    "carrier = \"Universal Supply Company\"\n",
    "carrier_id = \"d8201570-e39e-11e9-9d02-fde362fdfd63\"\n",
    "start_date = \"09/22/2019\"\n",
    "end_date = \"09/29/2019\"\n",
    "des = \"Class A Work\"\n",
    "invoice_id,qb_id = create_invoice(table, carrier,carrier_id,des,start_date,end_date,period_string)"
   ]
  },
  {
   "cell_type": "code",
   "execution_count": 82,
   "metadata": {},
   "outputs": [
    {
     "name": "stdout",
     "output_type": "stream",
     "text": [
      "6011dfb5-ef64-47db-bf72-b5f55b34dedf\n",
      "1570717966536\n"
     ]
    },
    {
     "data": {
      "text/plain": [
       "14    True\n",
       "dtype: bool"
      ]
     },
     "execution_count": 82,
     "metadata": {},
     "output_type": "execute_result"
    }
   ],
   "source": [
    "print(invoice_id)\n",
    "print(qb_id)\n",
    "table = dynamodb.Table('invoice_item')\n",
    "filter_shifts = shifts[shifts['carrier']==carrier]\n",
    "filter_shifts.apply(lambda x: invoice_item(x,table,invoice_id,qb_id, period_string),axis = 1)"
   ]
  },
  {
   "cell_type": "code",
   "execution_count": 18,
   "metadata": {},
   "outputs": [],
   "source": [
    "dynamodb = boto3.resource('dynamodb', region_name='us-east-1')\n",
    "table = dynamodb.Table('invoice')\n",
    "carrier = \"Lotus Scoop Ice Cream\"\n",
    "carrier_id = \"2e990320-c9c9-11e9-b35f-5356449f14da\"\n",
    "start_date = \"08/18/2019\"\n",
    "end_date = \"08/25/2019\"\n",
    "des = \"Non-commercial van\"\n",
    "invoice_id,qb_id = create_invoice(table, carrier,carrier_id,des,start_date,end_date,period_string)\n"
   ]
  },
  {
   "cell_type": "code",
   "execution_count": 19,
   "metadata": {},
   "outputs": [
    {
     "name": "stdout",
     "output_type": "stream",
     "text": [
      "72cd878c-cf36-4740-a1b5-8896035fe7e7\n",
      "1568985162326\n"
     ]
    },
    {
     "data": {
      "text/plain": [
       "4    True\n",
       "dtype: bool"
      ]
     },
     "execution_count": 19,
     "metadata": {},
     "output_type": "execute_result"
    }
   ],
   "source": [
    "print(invoice_id)\n",
    "print(qb_id)\n",
    "table = dynamodb.Table('invoice_item')\n",
    "filter_shifts = shifts[shifts['carrier']==carrier]\n",
    "filter_shifts.apply(lambda x: invoice_item(x,table,invoice_id,qb_id, period_string),axis = 1)"
   ]
  },
  {
   "cell_type": "code",
   "execution_count": 61,
   "metadata": {},
   "outputs": [],
   "source": [
    "shifts.to_csv(\"weekly_billing_{}.csv\".format(period_string[8:]))"
   ]
  },
  {
   "cell_type": "code",
   "execution_count": 28,
   "metadata": {},
   "outputs": [],
   "source": [
    "shifts[['driver','Payroll Amount','adj_hours']].groupby(by = \"driver\").apply(sum).iloc[:,1:].to_csv(\n",
    "    \"driver_payroll_{}.csv\".format(period_string[8:]))"
   ]
  },
  {
   "cell_type": "code",
   "execution_count": 29,
   "metadata": {},
   "outputs": [],
   "source": [
    "shifts[['carrier','Billed Amount','adj_hours']].groupby(by = \"carrier\").apply(sum).iloc[:,1:].to_csv(\n",
    "    \"carrier_totals_{}.csv\".format(period_string[8:]))"
   ]
  },
  {
   "cell_type": "code",
   "execution_count": 30,
   "metadata": {},
   "outputs": [],
   "source": [
    "export_cols = ['date','carrier','description','driver','shift_status','start_address','start_city','start_state',\n",
    "               'adj_hours','Payroll Rate','Client Rate','Payroll Amount','Billed Amount','break_hours',\n",
    "              'start_time','end_time']\n",
    "shifts[export_cols].to_csv(\"weekly_billing_{}.csv\".format(period_string[8:]))"
   ]
  },
  {
   "cell_type": "code",
   "execution_count": 31,
   "metadata": {},
   "outputs": [
    {
     "name": "stdout",
     "output_type": "stream",
     "text": [
      "<class 'pandas.core.frame.DataFrame'>\n",
      "Int64Index: 43 entries, 14 to 29\n",
      "Data columns (total 26 columns):\n",
      "app_count          43 non-null object\n",
      "carrier            43 non-null object\n",
      "carrier_id         43 non-null object\n",
      "created_dt         43 non-null object\n",
      "description        43 non-null object\n",
      "driver             43 non-null object\n",
      "end                43 non-null object\n",
      "id                 43 non-null object\n",
      "modified_dt        43 non-null object\n",
      "scheduled_start    43 non-null object\n",
      "shift_status       43 non-null object\n",
      "start              43 non-null object\n",
      "start_address      43 non-null object\n",
      "start_city         43 non-null object\n",
      "start_state        43 non-null object\n",
      "start_zip          43 non-null object\n",
      "user_id            43 non-null object\n",
      "adj_hours          43 non-null object\n",
      "Payroll Rate       43 non-null int64\n",
      "Client Rate        43 non-null int64\n",
      "Payroll Amount     43 non-null object\n",
      "Billed Amount      43 non-null object\n",
      "break_hours        43 non-null object\n",
      "start_time         43 non-null object\n",
      "end_time           43 non-null object\n",
      "date               43 non-null object\n",
      "dtypes: int64(2), object(24)\n",
      "memory usage: 9.1+ KB\n"
     ]
    }
   ],
   "source": [
    "shifts.info()"
   ]
  },
  {
   "cell_type": "code",
   "execution_count": null,
   "metadata": {},
   "outputs": [],
   "source": []
  }
 ],
 "metadata": {
  "kernelspec": {
   "display_name": "Python 3",
   "language": "python",
   "name": "python3"
  },
  "language_info": {
   "codemirror_mode": {
    "name": "ipython",
    "version": 3
   },
   "file_extension": ".py",
   "mimetype": "text/x-python",
   "name": "python",
   "nbconvert_exporter": "python",
   "pygments_lexer": "ipython3",
   "version": "3.7.3"
  }
 },
 "nbformat": 4,
 "nbformat_minor": 2
}
