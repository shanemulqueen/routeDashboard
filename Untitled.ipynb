{
 "cells": [
  {
   "cell_type": "code",
   "execution_count": 1,
   "metadata": {},
   "outputs": [],
   "source": [
    "import folium"
   ]
  },
  {
   "cell_type": "code",
   "execution_count": 2,
   "metadata": {},
   "outputs": [],
   "source": [
    "map = folium.Map(location=[30, 0], zoom_start=1,width='100%',height='100%')"
   ]
  },
  {
   "cell_type": "code",
   "execution_count": null,
   "metadata": {},
   "outputs": [],
   "source": [
    "map.save()"
   ]
  },
  {
   "cell_type": "code",
   "execution_count": 1,
   "metadata": {},
   "outputs": [],
   "source": [
    "import boto3"
   ]
  },
  {
   "cell_type": "code",
   "execution_count": 2,
   "metadata": {},
   "outputs": [],
   "source": [
    "client = boto3.client('dynamodb', region_name='us-east-1')"
   ]
  },
  {
   "cell_type": "code",
   "execution_count": 8,
   "metadata": {},
   "outputs": [],
   "source": [
    "resp = client.create_table(\n",
    "        TableName=\"Books\",\n",
    "        # Declare your Primary Key in the KeySchema argument\n",
    "        KeySchema=[\n",
    "            {\n",
    "                \"AttributeName\": \"Author\",\n",
    "                \"KeyType\": \"HASH\"\n",
    "            },\n",
    "            {\n",
    "                \"AttributeName\": \"Title\",\n",
    "                \"KeyType\": \"RANGE\"\n",
    "            }\n",
    "        ],\n",
    "        # Any attributes used in KeySchema or Indexes must be declared in AttributeDefinitions\n",
    "        AttributeDefinitions=[\n",
    "            {\n",
    "                \"AttributeName\": \"Author\",\n",
    "                \"AttributeType\": \"S\"\n",
    "            },\n",
    "            {\n",
    "                \"AttributeName\": \"Title\",\n",
    "                \"AttributeType\": \"S\"\n",
    "            }\n",
    "        ],\n",
    "        # ProvisionedThroughput controls the amount of data you can read or write to DynamoDB per second.\n",
    "        # You can control read and write capacity independently.\n",
    "        ProvisionedThroughput={\n",
    "            \"ReadCapacityUnits\": 1,\n",
    "            \"WriteCapacityUnits\": 1\n",
    "        }\n",
    "    )"
   ]
  },
  {
   "cell_type": "code",
   "execution_count": 9,
   "metadata": {},
   "outputs": [],
   "source": [
    "dynamodb = boto3.resource('dynamodb', region_name='us-east-1')\n",
    "table = dynamodb.Table('Books')"
   ]
  },
  {
   "cell_type": "code",
   "execution_count": 10,
   "metadata": {},
   "outputs": [],
   "source": [
    "with table.batch_writer() as batch:\n",
    "    batch.put_item(Item={\"Author\": \"John Grisham\", \"Title\": \"The Rainmaker\",\n",
    "        \"Category\": \"Suspense\", \"Formats\": { \"Hardcover\": \"J4SUKVGU\", \"Paperback\": \"D7YF4FCX\" } })\n",
    "    batch.put_item(Item={\"Author\": \"John Grisham\", \"Title\": \"The Firm\",\n",
    "        \"Category\": \"Suspense\", \"Formats\": { \"Hardcover\": \"Q7QWE3U2\",\n",
    "        \"Paperback\": \"ZVZAYY4F\", \"Audiobook\": \"DJ9KS9NM\" } })\n",
    "    batch.put_item(Item={\"Author\": \"James Patterson\", \"Title\": \"Along Came a Spider\",\n",
    "        \"Category\": \"Suspense\", \"Formats\": { \"Hardcover\": \"C9NR6RJ7\",\n",
    "        \"Paperback\": \"37JVGDZG\", \"Audiobook\": \"6348WX3U\" } })\n",
    "    batch.put_item(Item={\"Author\": \"Dr. Seuss\", \"Title\": \"Green Eggs and Ham\",\n",
    "        \"Category\": \"Children\", \"Formats\": { \"Hardcover\": \"GVJZQ7JK\",\n",
    "        \"Paperback\": \"A4TFUR98\", \"Audiobook\": \"XWMGHW96\" } })\n",
    "    batch.put_item(Item={\"Author\": \"William Shakespeare\", \"Title\": \"Hamlet\",\n",
    "        \"Category\": \"Drama\", \"Formats\": { \"Hardcover\": \"GVJZQ7JK\",\n",
    "        \"Paperback\": \"A4TFUR98\", \"Audiobook\": \"XWMGHW96\" } })"
   ]
  },
  {
   "cell_type": "code",
   "execution_count": 11,
   "metadata": {},
   "outputs": [
    {
     "name": "stdout",
     "output_type": "stream",
     "text": [
      "{'Title': 'The Rainmaker', 'Formats': {'Hardcover': 'J4SUKVGU', 'Paperback': 'D7YF4FCX'}, 'Author': 'John Grisham', 'Category': 'Suspense'}\n"
     ]
    }
   ],
   "source": [
    "resp = table.get_item(Key={\"Author\": \"John Grisham\", \"Title\": \"The Rainmaker\"})\n",
    "\n",
    "print(resp['Item'])"
   ]
  },
  {
   "cell_type": "code",
   "execution_count": 3,
   "metadata": {},
   "outputs": [],
   "source": [
    "session = boto3.Session(profile_name='fleeting')"
   ]
  },
  {
   "cell_type": "code",
   "execution_count": 26,
   "metadata": {},
   "outputs": [],
   "source": [
    "client = boto3.client('dynamodb', region_name='us-east-2')"
   ]
  },
  {
   "cell_type": "code",
   "execution_count": 29,
   "metadata": {},
   "outputs": [
    {
     "name": "stdout",
     "output_type": "stream",
     "text": [
      "carrier: 1\n",
      "dispatch_instruction: 2\n",
      "driver: 0\n",
      "experience: 0\n",
      "job: 0\n",
      "job_detail: 0\n",
      "job_favourite: 0\n",
      "job_status: 10\n",
      "job_task: 0\n",
      "job_type: 2\n",
      "password_reset_token: 0\n",
      "reference: 0\n",
      "residency: 0\n",
      "user: 2\n",
      "user_status: 3\n",
      "user_type: 3\n",
      "violation: 0\n"
     ]
    }
   ],
   "source": [
    "dynamodb = boto3.resource('dynamodb', region_name='us-east-2')\n",
    "for tab in client.list_tables()['TableNames']:\n",
    "    table = dynamodb.Table(tab)\n",
    "    resp = table.scan()\n",
    "    print(\"{}: {}\".format(tab, len(resp['Items'])))"
   ]
  },
  {
   "cell_type": "code",
   "execution_count": 13,
   "metadata": {},
   "outputs": [],
   "source": [
    "\n"
   ]
  },
  {
   "cell_type": "code",
   "execution_count": 16,
   "metadata": {},
   "outputs": [
    {
     "data": {
      "text/plain": [
       "19"
      ]
     },
     "execution_count": 16,
     "metadata": {},
     "output_type": "execute_result"
    }
   ],
   "source": [
    "table = dynamodb.Table('user')\n",
    "resp = table.scan()\n",
    "len(resp['Items'])"
   ]
  },
  {
   "cell_type": "code",
   "execution_count": 10,
   "metadata": {},
   "outputs": [
    {
     "data": {
      "text/plain": [
       "[{'created_dt': Decimal('1560525583900'),\n",
       "  'equipment_type': 'Trucks',\n",
       "  'dot_number': '123',\n",
       "  'modified_dt': Decimal('1560525620395'),\n",
       "  'user_id': 'd65cb4f0-8eb7-11e9-b024-39da2a204b63',\n",
       "  'company_name': 'Test Carrier Company',\n",
       "  'mc_number': '123',\n",
       "  'contact_person': 'Test Carrier',\n",
       "  'is_active': True,\n",
       "  'id': 'd66ae5c0-8eb7-11e9-b024-39da2a204b63',\n",
       "  'days_of_operation': '2,3,4,5,6'}]"
      ]
     },
     "execution_count": 10,
     "metadata": {},
     "output_type": "execute_result"
    }
   ],
   "source": [
    "resp['Items']"
   ]
  }
 ],
 "metadata": {
  "kernelspec": {
   "display_name": "Python 3",
   "language": "python",
   "name": "python3"
  },
  "language_info": {
   "codemirror_mode": {
    "name": "ipython",
    "version": 3
   },
   "file_extension": ".py",
   "mimetype": "text/x-python",
   "name": "python",
   "nbconvert_exporter": "python",
   "pygments_lexer": "ipython3",
   "version": "3.7.3"
  }
 },
 "nbformat": 4,
 "nbformat_minor": 2
}
